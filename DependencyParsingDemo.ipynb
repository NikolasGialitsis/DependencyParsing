{
  "nbformat": 4,
  "nbformat_minor": 0,
  "metadata": {
    "colab": {
      "name": "DependencyParsingDemo.ipynb",
      "provenance": [],
      "collapsed_sections": [],
      "authorship_tag": "ABX9TyNFj37NNqUFsLY4rdq+e7CW",
      "include_colab_link": true
    },
    "kernelspec": {
      "name": "python3",
      "display_name": "Python 3"
    },
    "language_info": {
      "name": "python"
    }
  },
  "cells": [
    {
      "cell_type": "markdown",
      "metadata": {
        "id": "view-in-github",
        "colab_type": "text"
      },
      "source": [
        "<a href=\"https://colab.research.google.com/github/NikolasGialitsis/DependencyParsing/blob/main/DependencyParsingDemo.ipynb\" target=\"_parent\"><img src=\"https://colab.research.google.com/assets/colab-badge.svg\" alt=\"Open In Colab\"/></a>"
      ]
    },
    {
      "cell_type": "code",
      "metadata": {
        "id": "gQCqtEryH8Aq"
      },
      "source": [
        "import spacy\n",
        "import networkx as nx\n",
        "import string\n",
        "import pprint\n",
        "translator = str.maketrans('', '', string.punctuation)\n",
        "\n",
        "\n",
        "def preprocess_word(word):\n",
        "    global translator\n",
        "    return word.translate(translator)\n",
        "\n",
        "def preprocess_sentence(text):\n",
        "    tokenized_lower = text.lower().split()\n",
        "    return list(map(preprocess_word, tokenized_lower))"
      ],
      "execution_count": null,
      "outputs": []
    },
    {
      "cell_type": "code",
      "metadata": {
        "colab": {
          "base_uri": "https://localhost:8080/"
        },
        "id": "d-m0lNOuPo_j",
        "outputId": "e114ce20-a737-40f0-d876-7311eb685b83"
      },
      "source": [
        "\n",
        "sentences = [\n",
        "    'nick had a little lamp',\n",
        "    'cognihub is the best place on earth',\n",
        "    #...\n",
        "]\n",
        "preprocessed_sentences = list(map(preprocess_sentence, sentences))\n",
        "wordset = set()\n",
        "for sentence in preprocessed_sentences:\n",
        "    for word in sentence:\n",
        "        wordset.add(word)\n",
        "\n",
        "print(wordset)"
      ],
      "execution_count": null,
      "outputs": [
        {
          "output_type": "stream",
          "name": "stdout",
          "text": [
            "{'is', 'little', 'place', 'cognihub', 'had', 'best', 'earth', 'a', 'nick', 'lamp', 'the', 'on'}\n"
          ]
        }
      ]
    },
    {
      "cell_type": "code",
      "metadata": {
        "colab": {
          "base_uri": "https://localhost:8080/"
        },
        "id": "cke7xmUSPlSO",
        "outputId": "b721e14e-a8a1-4f78-838a-52c82e1ddc7d"
      },
      "source": [
        "nlp = spacy.load(\"en_core_web_sm\")\n",
        "\n",
        "base_graph = nx.Graph()\n",
        "base_graph.add_nodes_from(wordset)\n",
        "\n",
        "\n",
        "repr = {}\n",
        "for sentence_id, sentence_contents in enumerate(sentences):\n",
        "    sentence_graph = base_graph.copy()\n",
        "    processed_sentence =  nlp(' '.join(preprocess_sentence(sentence_contents)))\n",
        "    \n",
        "    print('\\n',processed_sentence)\n",
        "\n",
        "    n_nodes, n_edges = nx.number_of_nodes(sentence_graph), nx.number_of_edges(sentence_graph)\n",
        "    print(n_nodes,'nodes in sentence graph')\n",
        "    print(n_edges,'edges in sentence graph')\n",
        "\n",
        "\n",
        "    for token in processed_sentence:\n",
        "        nodeA = token.text\n",
        "        nodeB = token.head.text\n",
        "        print('\\tadding edge between', nodeA, 'and', nodeB)\n",
        "        sentence_graph.add_edge(nodeA, nodeB)\n",
        "        sentence_representation =  nx.adjacency_matrix(sentence_graph) #sparse matrix\n",
        "        print('\\t\\t sparse matrix has ',sentence_representation.count_nonzero(),'nonzero elements')\n",
        "        repr[sentence_id] = sentence_representation\n",
        "\n",
        "    n_nodes, n_edges = nx.number_of_nodes(sentence_graph), nx.number_of_edges(sentence_graph)\n",
        "    print(n_nodes,'nodes in sentence graph')\n",
        "    print(n_edges,'edges in sentence graph')\n",
        "\n",
        "\n",
        "\n",
        "print('\\n\\nsaving representations')\n",
        "import pickle\n",
        "with open('sentence_representations_adjmat.p','wb') as fw:\n",
        "    pickle.dump(repr, fw)\n",
        "    \n"
      ],
      "execution_count": null,
      "outputs": [
        {
          "output_type": "stream",
          "name": "stdout",
          "text": [
            "\n",
            " nick had a little lamp\n",
            "12 nodes in sentence graph\n",
            "0 edges in sentence graph\n",
            "\tadding edge between nick and had\n",
            "\t\t sparse matrix has  2 nonzero elements\n",
            "\tadding edge between had and had\n",
            "\t\t sparse matrix has  3 nonzero elements\n",
            "\tadding edge between a and lamp\n",
            "\t\t sparse matrix has  5 nonzero elements\n",
            "\tadding edge between little and lamp\n",
            "\t\t sparse matrix has  7 nonzero elements\n",
            "\tadding edge between lamp and had\n",
            "\t\t sparse matrix has  9 nonzero elements\n",
            "12 nodes in sentence graph\n",
            "5 edges in sentence graph\n",
            "\n",
            " cognihub is the best place on earth\n",
            "12 nodes in sentence graph\n",
            "0 edges in sentence graph\n",
            "\tadding edge between cognihub and is\n",
            "\t\t sparse matrix has  2 nonzero elements\n",
            "\tadding edge between is and is\n",
            "\t\t sparse matrix has  3 nonzero elements\n",
            "\tadding edge between the and place\n",
            "\t\t sparse matrix has  5 nonzero elements\n",
            "\tadding edge between best and place\n",
            "\t\t sparse matrix has  7 nonzero elements\n",
            "\tadding edge between place and is\n",
            "\t\t sparse matrix has  9 nonzero elements\n",
            "\tadding edge between on and place\n",
            "\t\t sparse matrix has  11 nonzero elements\n",
            "\tadding edge between earth and on\n",
            "\t\t sparse matrix has  13 nonzero elements\n",
            "12 nodes in sentence graph\n",
            "7 edges in sentence graph\n",
            "\n",
            "\n",
            "saving representations\n"
          ]
        }
      ]
    }
  ]
}